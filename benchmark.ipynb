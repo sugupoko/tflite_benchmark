{
 "cells": [
  {
   "cell_type": "code",
   "execution_count": 1,
   "id": "c0cb50a7-1ff8-4276-99d6-eb7e96457955",
   "metadata": {},
   "outputs": [
    {
     "name": "stdout",
     "output_type": "stream",
     "text": [
      "/home/dockshare/dockshare/other/tflite_benchmark\n"
     ]
    }
   ],
   "source": [
    "!pwd"
   ]
  },
  {
   "cell_type": "code",
   "execution_count": 2,
   "id": "02219313-f672-4f04-8978-8c25b3fe582e",
   "metadata": {},
   "outputs": [],
   "source": [
    "!chmod 777 linux_x86-64_benchmark_model"
   ]
  },
  {
   "cell_type": "code",
   "execution_count": 4,
   "id": "dd58817a-5fa1-4724-8ea0-bbb31583fd00",
   "metadata": {},
   "outputs": [
    {
     "name": "stdout",
     "output_type": "stream",
     "text": [
      "INFO: Created TensorFlow Lite XNNPACK delegate for CPU.\n"
     ]
    }
   ],
   "source": [
    "!./linux_x86-64_benchmark_model \\\n",
    "  --graph=ssd_mobilenet.tflite \\\n",
    "  --num_threads=1\\\n",
    "  --enable_op_profiling=true >> benchmark.log"
   ]
  },
  {
   "cell_type": "code",
   "execution_count": null,
   "id": "b21f08df-4d17-4b5b-96f8-d4096211aee3",
   "metadata": {},
   "outputs": [],
   "source": []
  }
 ],
 "metadata": {
  "kernelspec": {
   "display_name": "Python 3",
   "language": "python",
   "name": "python3"
  },
  "language_info": {
   "codemirror_mode": {
    "name": "ipython",
    "version": 3
   },
   "file_extension": ".py",
   "mimetype": "text/x-python",
   "name": "python",
   "nbconvert_exporter": "python",
   "pygments_lexer": "ipython3",
   "version": "3.8.10"
  }
 },
 "nbformat": 4,
 "nbformat_minor": 5
}
